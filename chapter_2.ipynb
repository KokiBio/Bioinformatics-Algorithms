{
 "cells": [
  {
   "cell_type": "code",
   "execution_count": 2,
   "metadata": {},
   "outputs": [
    {
     "name": "stdout",
     "output_type": "stream",
     "text": [
      "60039 98409 129189 152283 152354 152411 163207 197028 200160 357976 376771 392723 532935 600085 622755 1065555\n"
     ]
    }
   ],
   "source": [
    "import sys\n",
    "import pandas as pd\n",
    "import math\n",
    "import random\n",
    "from ipynb.fs.full.chapter_1 import *"
   ]
  },
  {
   "cell_type": "code",
   "execution_count": 4,
   "metadata": {},
   "outputs": [],
   "source": [
    "# Return the first pattern of length k showing up in all strings of 'dna' with at most d mismatches \n",
    "\n",
    "def motif_enumeration(dna: list[str], k: int, d: int) -> list[str]:\n",
    "    patterns = set()\n",
    "    for string in dna:\n",
    "        for i in range(len(string) - k + 1):\n",
    "            kmer = string[i:i+k]\n",
    "            neighborhood = neighbors(kmer, d)\n",
    "            for neighbor in neighborhood:\n",
    "                if all(\n",
    "                    any(\n",
    "                        hamming_distance(neighbor, string[j:j+k]) <= d \n",
    "                        for j in range(len(string) - k + 1)\n",
    "                    )\n",
    "                    for string in dna\n",
    "                ):\n",
    "                    patterns.add(neighbor)\n",
    "    return list(patterns)\n"
   ]
  },
  {
   "cell_type": "code",
   "execution_count": 5,
   "metadata": {},
   "outputs": [],
   "source": [
    "# Return the total edit distance bewtween a pattern and all strings of dna\n",
    "\n",
    "def distance_between_patterns_and_strings(pattern: str, dna: list[str]):\n",
    "    k = len(pattern)\n",
    "    distance = 0\n",
    "    for text in dna:\n",
    "        hamming = math.inf\n",
    "        for i in range(len(text) - k + 1):\n",
    "            kmer = text[i:i+k]\n",
    "            if hamming > hamming_distance(pattern, kmer):\n",
    "                hamming = hamming_distance(pattern, kmer)\n",
    "        distance += hamming\n",
    "    return distance  "
   ]
  },
  {
   "cell_type": "code",
   "execution_count": 6,
   "metadata": {},
   "outputs": [],
   "source": [
    "# Generate all nucleotide combinations of length k\n",
    "\n",
    "def all_strings(k: int):\n",
    "    base_string = k * 'A'\n",
    "    kmers = neighbors(base_string, k)\n",
    "    return kmers"
   ]
  },
  {
   "cell_type": "code",
   "execution_count": 7,
   "metadata": {},
   "outputs": [],
   "source": [
    "# Return a kmer with the minimum total edit distances to all strings in dna\n",
    "\n",
    "def median_string(dna: list[str], k: int):\n",
    "    distance = math.inf\n",
    "    median = str\n",
    "    kmers = all_strings(k)\n",
    "    for kmer in kmers:\n",
    "        if distance > distance_between_patterns_and_strings(kmer, dna):\n",
    "            distance = distance_between_patterns_and_strings(kmer, dna)\n",
    "            median = kmer\n",
    "    return median"
   ]
  },
  {
   "cell_type": "code",
   "execution_count": 8,
   "metadata": {},
   "outputs": [],
   "source": [
    "# Construct a profile matrix given a list of strings\n",
    "\n",
    "def profile_matrix(dna: list[str]):\n",
    "    profile = []\n",
    "    for col in range(len(dna[0])):\n",
    "        temp_dict = {'A': 0, 'C': 0, 'G': 0, 'T': 0}\n",
    "        for row in range(len(dna)):\n",
    "            base = dna[row][col]\n",
    "            temp_dict[base] += (1 / len(dna))\n",
    "        profile.append(temp_dict)\n",
    "    return profile"
   ]
  },
  {
   "cell_type": "code",
   "execution_count": 9,
   "metadata": {},
   "outputs": [],
   "source": [
    "# Calculates the score of a profile, returning the sum of the fraction of non-consensus bases at each position\n",
    "\n",
    "def score(profile: list[dict[str, float]]):\n",
    "    total_mismatches = 0\n",
    "    for col in profile:\n",
    "        max_value = max(col.values())\n",
    "        max_base = ''\n",
    "        for base, count in col.items():\n",
    "            if count == max_value:\n",
    "                max_base = base\n",
    "        for base, count in col.items():\n",
    "            if base != max_base:\n",
    "                total_mismatches += count\n",
    "    \n",
    "    total_mismatches *= sum(profile[0].values())\n",
    "    \n",
    "    return total_mismatches"
   ]
  },
  {
   "cell_type": "code",
   "execution_count": 10,
   "metadata": {},
   "outputs": [],
   "source": [
    "# Returns the most frequent kmer given a profile\n",
    "\n",
    "def profile_most_probable_kmer(text: str, k: int,\n",
    "                               profile: list[dict[str, float]]) -> str:\n",
    "    min_probability = 0\n",
    "    frequent_kmer = ''\n",
    "    for i in range(len(text) - k + 1):\n",
    "        probability = 1\n",
    "        window = text[i:i+k]\n",
    "        for j in range(len(window)):\n",
    "            probability *= profile[j][window[j]]\n",
    "        if probability > min_probability:\n",
    "            min_probability = probability\n",
    "            frequent_kmer = window\n",
    "\n",
    "    if min_probability == 0:\n",
    "        return text[:k]\n",
    "    return frequent_kmer "
   ]
  },
  {
   "cell_type": "code",
   "execution_count": 11,
   "metadata": {},
   "outputs": [],
   "source": [
    "# Greedy algorithm for searching motifs, iterates through dna selecting the motif with the lowest score \n",
    "\n",
    "def greedy_motif_search(dna: list[str], k: int, t: int) -> list[str]:\n",
    "    best_motifs = [string[:k] for string in dna]\n",
    "    for i in range(len(dna[0]) - k + 1):\n",
    "        motif1 = dna[0][i:i+k]\n",
    "        motifs = [motif1]\n",
    "        for j in range(1, t):\n",
    "            profile = profile_matrix(motifs)\n",
    "            motif = profile_most_probable_kmer(dna[j], k, profile)\n",
    "            motifs.append(motif)\n",
    "        if score(profile_matrix(motifs)) < score(profile_matrix(best_motifs)):\n",
    "            best_motifs = motifs\n",
    "    return best_motifs\n"
   ]
  },
  {
   "cell_type": "code",
   "execution_count": 12,
   "metadata": {},
   "outputs": [],
   "source": [
    "# Construct a profile matrix given a list of strings, adding a pseudocount of +1 to all values \n",
    "\n",
    "def profile_matrix_pseudocount(dna: list[str]):\n",
    "    profile = []\n",
    "    for col in range(len(dna[0])):\n",
    "        temp_dict = {'A': 1, 'C': 1, 'G': 1, 'T': 1}\n",
    "        for row in range(len(dna)):\n",
    "            base = dna[row][col]\n",
    "            temp_dict[base] += (1 / (len(dna) + 1))\n",
    "        profile.append(temp_dict)\n",
    "    return profile"
   ]
  },
  {
   "cell_type": "code",
   "execution_count": 13,
   "metadata": {},
   "outputs": [],
   "source": [
    "# greedy_motif_search with pseudocounts\n",
    "\n",
    "def greedy_motif_search_pseudocounts(dna: list[str], k: int, t: int) -> list[str]:\n",
    "    best_motifs = [string[:k] for string in dna]\n",
    "    for i in range(len(dna[0]) - k + 1):\n",
    "        motif1 = dna[0][i:i+k]\n",
    "        motifs = [motif1]\n",
    "        for j in range(1, t):\n",
    "            profile = profile_matrix_pseudocount(motifs)\n",
    "            motif = profile_most_probable_kmer(dna[j], k, profile)\n",
    "            motifs.append(motif)\n",
    "        if score(profile_matrix_pseudocount(motifs)) < score(profile_matrix_pseudocount(best_motifs)):\n",
    "            best_motifs = motifs\n",
    "    return best_motifs"
   ]
  },
  {
   "cell_type": "code",
   "execution_count": 14,
   "metadata": {},
   "outputs": [],
   "source": [
    "# Selects random motifs from strings in dna, iteratively choose the most probable kmer from strings as the new motifs\n",
    "\n",
    "def randomized_motif_search(dna: list[str], k: int, t: int) -> list[str]:\n",
    "    motifs = []\n",
    "    for string in dna:\n",
    "        pos = random.randint(0, len(string) - k)\n",
    "        kmer = string[pos:pos+k]\n",
    "        motifs.append(kmer)\n",
    "    best_motifs = motifs\n",
    "    while True:\n",
    "        profile = profile_matrix_pseudocount(motifs)\n",
    "        motifs = [profile_most_probable_kmer(string, k, profile) for string in dna]\n",
    "        if score(profile_matrix_pseudocount(motifs)) < score(profile_matrix_pseudocount(best_motifs)):\n",
    "            best_motifs = motifs\n",
    "        else:\n",
    "            return best_motifs"
   ]
  }
 ],
 "metadata": {
  "kernelspec": {
   "display_name": "Python 3",
   "language": "python",
   "name": "python3"
  },
  "language_info": {
   "codemirror_mode": {
    "name": "ipython",
    "version": 3
   },
   "file_extension": ".py",
   "mimetype": "text/x-python",
   "name": "python",
   "nbconvert_exporter": "python",
   "pygments_lexer": "ipython3",
   "version": "3.12.0"
  }
 },
 "nbformat": 4,
 "nbformat_minor": 2
}
