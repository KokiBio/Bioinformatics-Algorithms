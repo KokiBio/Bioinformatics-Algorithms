{
 "cells": [
  {
   "cell_type": "code",
   "execution_count": 19,
   "metadata": {},
   "outputs": [],
   "source": [
    "import sys\n",
    "import pandas as pd"
   ]
  },
  {
   "cell_type": "code",
   "execution_count": 20,
   "metadata": {},
   "outputs": [],
   "source": [
    "# Returns the count of a specified pattern\n",
    "\n",
    "def pattern_count(text: str, pattern: str) -> int:\n",
    "    count = 0\n",
    "    for i in range(len(text) - len(pattern) + 1):\n",
    "        if text[i: i + len(pattern)] == pattern:\n",
    "            count += 1\n",
    "    return count"
   ]
  },
  {
   "cell_type": "code",
   "execution_count": 21,
   "metadata": {},
   "outputs": [],
   "source": [
    "# Given a frequency table matching strings to integers, return the highest integer value\n",
    "\n",
    "def max_map(freq_map):\n",
    "    max = 0\n",
    "    for val in freq_map.values():\n",
    "        if val > max:\n",
    "            max = val\n",
    "    return max"
   ]
  },
  {
   "cell_type": "code",
   "execution_count": 22,
   "metadata": {},
   "outputs": [],
   "source": [
    "# Generate a frequency table given a string and pattern length k\n",
    "\n",
    "def frequency_table(text: str, k: int):\n",
    "    freq_map = {}\n",
    "    for i in range(len(text) - k + 1):\n",
    "        window = text[i: i+k]\n",
    "        if window in freq_map.keys():\n",
    "            freq_map[window] += 1\n",
    "        else:\n",
    "            freq_map[window] = 1\n",
    "    return freq_map"
   ]
  },
  {
   "cell_type": "code",
   "execution_count": 23,
   "metadata": {},
   "outputs": [],
   "source": [
    "# Given a string and sliding window size k, return the pattern on length k with the highest frequency\n",
    "\n",
    "def frequent_words(text: str, k: int) -> list[str]:\n",
    "    freq_patterns = []\n",
    "    freq_map = frequency_table(text, k)\n",
    "    max = max_map(freq_map)\n",
    "    for pattern in freq_map.keys():\n",
    "        if freq_map[pattern] == max:\n",
    "            freq_patterns.append(pattern)\n",
    "    return freq_patterns"
   ]
  },
  {
   "cell_type": "code",
   "execution_count": 24,
   "metadata": {},
   "outputs": [],
   "source": [
    "# Return the reverse complement of a DNA string\n",
    "\n",
    "def reverse_complement(pattern: str) -> str:\n",
    "    return pattern.replace('A', 't').replace('T', 'a').replace('G', 'c').replace('C', 'g').upper()[::-1]"
   ]
  },
  {
   "cell_type": "code",
   "execution_count": 25,
   "metadata": {},
   "outputs": [],
   "source": [
    "# Return the starting positions of a pattern in genome\n",
    "\n",
    "def pattern_matching(pattern: str, genome: str) -> list[int]:\n",
    "    positions = []\n",
    "    for i in range(len(genome) - len(pattern) + 1):\n",
    "        window = genome[i: i+len(pattern)]\n",
    "        if window == pattern:\n",
    "            positions.append(i)\n",
    "    return positions"
   ]
  },
  {
   "cell_type": "code",
   "execution_count": 27,
   "metadata": {},
   "outputs": [],
   "source": [
    "# Given a genome, find strings of length k and frequency >= t that appear in windows of length l\n",
    "\n",
    "def find_clumps(genome: str, k: int, l: int, t: int) -> list[str]:\n",
    "    patterns = []\n",
    "    n = len(genome)\n",
    "    for i in range(n - l + 1):\n",
    "        window = genome[i: i+l]\n",
    "        freq_map = frequency_table(window, k)\n",
    "        for key, val in freq_map.items():\n",
    "            if val >= t:\n",
    "                patterns.append(key)\n",
    "    patterns = set(patterns)\n",
    "    return patterns"
   ]
  },
  {
   "cell_type": "code",
   "execution_count": 28,
   "metadata": {},
   "outputs": [],
   "source": [
    "# Calculate the skew of a genome, G = +1, C = -1\n",
    "\n",
    "def skew(genome: str):\n",
    "    skew = 0\n",
    "    skews = [0]\n",
    "    for i in genome:\n",
    "        if i == 'G':\n",
    "            skew += 1\n",
    "        elif i == 'C':\n",
    "            skew -= 1\n",
    "        skews.append(skew)\n",
    "    return skews"
   ]
  },
  {
   "cell_type": "code",
   "execution_count": 29,
   "metadata": {},
   "outputs": [],
   "source": [
    "# Determine the positions in a genome at which the skew is minimized\n",
    "\n",
    "def min_skew(genome: str):\n",
    "    min = 0\n",
    "    positions = []\n",
    "    skews = skew(genome)\n",
    "    for score in skews:\n",
    "        if score < min:\n",
    "            min = score\n",
    "    for i in range(len(skews)):\n",
    "        if skews[i] == min:\n",
    "            positions.append(i)\n",
    "    return positions"
   ]
  },
  {
   "cell_type": "code",
   "execution_count": 30,
   "metadata": {},
   "outputs": [],
   "source": [
    "# Calculate the hamming distance between two strings\n",
    "\n",
    "def hamming_distance(p: str, q: str) -> int:\n",
    "    distance = 0\n",
    "    for i, j in zip(q, p):\n",
    "        if i != j:\n",
    "            distance += 1\n",
    "    return distance"
   ]
  },
  {
   "cell_type": "code",
   "execution_count": 31,
   "metadata": {},
   "outputs": [],
   "source": [
    "# Returns the starting position of a window with less than hamming distance d from the pattern\n",
    "\n",
    "def approximate_pattern_matching(pattern: str, text: str, d: int) -> list[int]:\n",
    "    positions = []\n",
    "    k = len(pattern)\n",
    "    for i in range(len(text) - k + 1):\n",
    "        window = text[i: i+k]\n",
    "        if hamming_distance(window, pattern) <= d:\n",
    "            positions.append(i)\n",
    "    return positions"
   ]
  },
  {
   "cell_type": "code",
   "execution_count": 32,
   "metadata": {},
   "outputs": [],
   "source": [
    "# Return the number of approximately matching patterns of hamming distance d in a string\n",
    "\n",
    "def approximate_pattern_count(text: str, pattern: str, d: int) -> int:\n",
    "    return len(approximate_pattern_matching(pattern ,text, d))"
   ]
  },
  {
   "cell_type": "code",
   "execution_count": 33,
   "metadata": {},
   "outputs": [],
   "source": [
    "# Generate the neighborhood of a pattern\n",
    "\n",
    "def neighbors(s: str, d: int) -> list[str]:\n",
    "    nucleotides = ['A', 'C', 'G', 'T']\n",
    "    if d == 0:\n",
    "        return [s]\n",
    "    if len(s) == 1:\n",
    "        return nucleotides\n",
    "    neighborhood = set()\n",
    "    suffix = s[1:]\n",
    "    first_symbol = s[0]\n",
    "    suffix_neighbors = neighbors(suffix, d)\n",
    "    for text in suffix_neighbors:\n",
    "        if hamming_distance(suffix, text) < d:\n",
    "            for nucleotide in nucleotides:\n",
    "                neighborhood.add(nucleotide + text)\n",
    "        else:\n",
    "            neighborhood.add(first_symbol + text)\n",
    "    return list(neighborhood)"
   ]
  },
  {
   "cell_type": "code",
   "execution_count": 34,
   "metadata": {},
   "outputs": [],
   "source": [
    "# Find the most frequent kmer with at most d mismatches in a string\n",
    "\n",
    "def frequent_words_with_mismatches(text: str, k: int, d: int) -> list[str]:\n",
    "    patterns = []\n",
    "    freq_map = {}\n",
    "    n = len(text)\n",
    "    for i in range(n - k + 1):\n",
    "        pattern = text[i:i+k]\n",
    "        neighborhood = neighbors(pattern, d)\n",
    "        for neighbor in neighborhood:\n",
    "            if neighbor not in freq_map:\n",
    "                freq_map[neighbor] = 1\n",
    "            else:\n",
    "                freq_map[neighbor] += 1\n",
    "    m = max_map(freq_map)\n",
    "    for pattern, count in freq_map.items():\n",
    "        if count == m:\n",
    "            patterns.append(pattern)\n",
    "    return patterns\n"
   ]
  },
  {
   "cell_type": "code",
   "execution_count": 35,
   "metadata": {},
   "outputs": [],
   "source": [
    "# Find the most frequent kmer including its reverse complement with at most d mismatches in a string\n",
    "\n",
    "def frequent_words_mismatches_reverse_complements(text: str, k: int, d: int) -> list[str]:\n",
    "    patterns = []\n",
    "    freq_map = {}\n",
    "    n = len(text)\n",
    "    \n",
    "    for i in range(n - k + 1):\n",
    "        pattern = text[i:i+k]\n",
    "        rc_pattern = reverse_complement(pattern)\n",
    "        neighborhood = neighbors(pattern, d)\n",
    "        rc_neighborhood = neighbors(rc_pattern, d)\n",
    "        neighborhood = set(neighborhood + rc_neighborhood)\n",
    "        for neighbor in neighborhood:\n",
    "            if neighbor not in freq_map:\n",
    "                freq_map[neighbor] = 1\n",
    "            else:\n",
    "                freq_map[neighbor] += 1\n",
    "    m = max_map(freq_map)\n",
    "\n",
    "    for pattern, count in freq_map.items():\n",
    "        if count == m:\n",
    "            patterns.append(pattern)\n",
    "            \n",
    "    return patterns"
   ]
  }
 ],
 "metadata": {
  "kernelspec": {
   "display_name": "Python 3",
   "language": "python",
   "name": "python3"
  },
  "language_info": {
   "codemirror_mode": {
    "name": "ipython",
    "version": 3
   },
   "file_extension": ".py",
   "mimetype": "text/x-python",
   "name": "python",
   "nbconvert_exporter": "python",
   "pygments_lexer": "ipython3",
   "version": "3.12.0"
  }
 },
 "nbformat": 4,
 "nbformat_minor": 2
}
